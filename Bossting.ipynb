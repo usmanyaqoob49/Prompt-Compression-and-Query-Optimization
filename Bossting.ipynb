{
 "cells": [
  {
   "cell_type": "markdown",
   "id": "ec4ea046-ac11-4cb8-9531-b6a90fea6ecb",
   "metadata": {},
   "source": [
    "# Boosting\n"
   ]
  },
  {
   "cell_type": "markdown",
   "id": "272cfe8a-a7a0-446d-b222-c8cbc32c72a2",
   "metadata": {},
   "source": [
    "More often our document contains the field that we can use to rank the documents in the vector database. For example AIRBNB listing database contains Average Rating and number of reviews fields that we can use to rank the documents.\n",
    "\n",
    "So overall boosting is reranking the documents according to metadata.\n",
    "\n",
    "- It can improve relevancy in vector search.\n",
    "- Personalize result."
   ]
  },
  {
   "cell_type": "code",
   "execution_count": 8,
   "id": "b89d536f-e017-4797-82aa-04e4c69b6f3d",
   "metadata": {
    "height": 64
   },
   "outputs": [],
   "source": [
    "# Warning control\n",
    "import warnings\n",
    "warnings.filterwarnings('ignore')"
   ]
  },
  {
   "cell_type": "code",
   "execution_count": 19,
   "id": "1269d100-d775-44d0-9198-25a7194234f2",
   "metadata": {
    "height": 5183
   },
   "outputs": [],
   "source": [
    "import os\n",
    "from typing import List, Optional\n",
    "from pydantic import BaseModel, ValidationError\n",
    "from datetime import datetime\n",
    "import pandas as pd\n",
    "import openai\n",
    "from pymongo.collection import Collection\n",
    "from pymongo.errors import OperationFailure\n",
    "from pymongo.operations import SearchIndexModel\n",
    "from pymongo.mongo_client import MongoClient\n",
    "import time\n",
    "\n",
    "from dotenv import load_dotenv, find_dotenv\n",
    "_ = load_dotenv(find_dotenv()) # read local .env file\n",
    "openai.api_key = os.environ['OPENAI_API_KEY']\n",
    "\n",
    "DB_NAME = \"airbnb_dataset\"\n",
    "COLLECTION_NAME = \"listings_reviews\"\n",
    "\n",
    "class Host(BaseModel):\n",
    "    host_id: str\n",
    "    host_url: str\n",
    "    host_name: str\n",
    "    host_location: str\n",
    "    host_about: str\n",
    "    host_response_time: Optional[str] = None\n",
    "    host_thumbnail_url: str\n",
    "    host_picture_url: str\n",
    "    host_response_rate: Optional[int] = None\n",
    "    host_is_superhost: bool\n",
    "    host_has_profile_pic: bool\n",
    "    host_identity_verified: bool\n",
    "\n",
    "class Location(BaseModel):\n",
    "    type: str\n",
    "    coordinates: List[float]\n",
    "    is_location_exact: bool\n",
    "\n",
    "class Address(BaseModel):\n",
    "    street: str\n",
    "    government_area: str\n",
    "    market: str\n",
    "    country: str\n",
    "    country_code: str\n",
    "    location: Location\n",
    "\n",
    "class Review(BaseModel):\n",
    "    _id: str\n",
    "    date: Optional[datetime] = None\n",
    "    listing_id: str\n",
    "    reviewer_id: str\n",
    "    reviewer_name: Optional[str] = None\n",
    "    comments: Optional[str] = None\n",
    "\n",
    "class Listing(BaseModel):\n",
    "    _id: int\n",
    "    listing_url: str\n",
    "    name: str\n",
    "    summary: str\n",
    "    space: str\n",
    "    description: str\n",
    "    neighborhood_overview: Optional[str] = None\n",
    "    notes: Optional[str] = None\n",
    "    transit: Optional[str] = None\n",
    "    access: str\n",
    "    interaction: Optional[str] = None\n",
    "    house_rules: str\n",
    "    property_type: str\n",
    "    room_type: str\n",
    "    bed_type: str\n",
    "    minimum_nights: int\n",
    "    maximum_nights: int\n",
    "    cancellation_policy: str\n",
    "    last_scraped: Optional[datetime] = None\n",
    "    calendar_last_scraped: Optional[datetime] = None\n",
    "    first_review: Optional[datetime] = None\n",
    "    last_review: Optional[datetime] = None\n",
    "    accommodates: int\n",
    "    bedrooms: Optional[float] = 0\n",
    "    beds: Optional[float] = 0\n",
    "    number_of_reviews: int\n",
    "    bathrooms: Optional[float] = 0\n",
    "    amenities: List[str]\n",
    "    price: int\n",
    "    security_deposit: Optional[float] = None\n",
    "    cleaning_fee: Optional[float] = None\n",
    "    extra_people: int\n",
    "    guests_included: int\n",
    "    images: dict\n",
    "    host: Host\n",
    "    address: Address\n",
    "    availability: dict\n",
    "    review_scores: dict\n",
    "    reviews: List[Review]\n",
    "    text_embeddings: List[float]\n",
    "\n",
    "def process_records(data_frame):\n",
    "    records = data_frame.to_dict(orient='records')\n",
    "    # Handle potential `NaT` values\n",
    "    for record in records:\n",
    "        for key, value in record.items():\n",
    "            # Check if the value is list-like; if so, process each element.\n",
    "            if isinstance(value, list):\n",
    "                processed_list = [None if pd.isnull(v) else v for v in value]\n",
    "                record[key] = processed_list\n",
    "            # For scalar values, continue as before.\n",
    "            else:\n",
    "                if pd.isnull(value):\n",
    "                    record[key] = None\n",
    "    try:\n",
    "        # Convert each dictionary to a Listing instance\n",
    "        listings = [Listing(**record).dict() for record in records]\n",
    "        return listings\n",
    "    except ValidationError as e:\n",
    "        print(\"Validation error:\", e)\n",
    "        return []\n",
    "    \n",
    "\n",
    "\n",
    "def get_embedding(text):\n",
    "    \"\"\"Generate an embedding for the given text using OpenAI's API.\"\"\"\n",
    "\n",
    "    # Check for valid input\n",
    "    if not text or not isinstance(text, str):\n",
    "        return None\n",
    "\n",
    "    try:\n",
    "        # Call OpenAI API to get the embedding\n",
    "        embedding = openai.embeddings.create(\n",
    "            input=text,\n",
    "            model=\"text-embedding-3-small\", dimensions=1536).data[0].embedding\n",
    "        return embedding\n",
    "    except Exception as e:\n",
    "        print(f\"Error in get_embedding: {e}\")\n",
    "        return None\n",
    "    \n",
    "\n",
    "def setup_vector_search_index(collection: Collection, \n",
    "                              text_embedding_field_name: str = \"text_embeddings\", \n",
    "                              vector_search_index_name: str = \"vector_index_text\"):\n",
    "    \"\"\"\n",
    "    Sets up a vector search index for a MongoDB collection based on text embeddings.\n",
    "\n",
    "    Parameters:\n",
    "    - collection (Collection): The MongoDB collection to which the index is applied.\n",
    "    - text_embedding_field_name (str): The field in the documents that contains the text embeddings.\n",
    "    - vector_search_index_name (str): The name for the vector search index.\n",
    "\n",
    "    Returns:\n",
    "    - None\n",
    "    \"\"\"\n",
    "    # Define the model for the vector search index\n",
    "    vector_search_index_model = SearchIndexModel(\n",
    "        definition={\n",
    "            \"mappings\": { # describes how fields in the database documents are indexed and stored\n",
    "                \"dynamic\": True, # automatically index new fields that appear in the document\n",
    "                \"fields\": { # properties of the fields that will be indexed.\n",
    "                    text_embedding_field_name: { \n",
    "                        \"dimensions\": 1536, # size of the vector.\n",
    "                        \"similarity\": \"cosine\", # algorithm used to compute the similarity between vectors\n",
    "                        \"type\": \"knnVector\",\n",
    "                    }\n",
    "                },\n",
    "            }\n",
    "        },\n",
    "        name=vector_search_index_name, # identifier for the vector search index\n",
    "    )\n",
    "\n",
    "    # Check if the index already exists\n",
    "    index_exists = False\n",
    "    for index in collection.list_indexes():\n",
    "        if index['name'] == vector_search_index_name:\n",
    "            index_exists = True\n",
    "            break\n",
    "\n",
    "    # Create the index if it doesn't exist\n",
    "    if not index_exists:\n",
    "        try:\n",
    "            result = collection.create_search_index(vector_search_index_model)\n",
    "            print(\"Creating index...\")\n",
    "            time.sleep(20)  # Sleep for 20 seconds, adding sleep to ensure vector index has compeleted inital sync before utilization\n",
    "            print(f\"Index created successfully: {result}\")\n",
    "            print(\"Wait a few minutes before conducting search with index to ensure index initialization.\")\n",
    "        except OperationFailure as e:\n",
    "            print(f\"Error creating vector search index: {str(e)}\")\n",
    "    else:\n",
    "        print(f\"Index '{vector_search_index_name}' already exists.\")\n",
    "\n",
    "\n",
    "def setup_vector_search_index_with_filter(collection):\n",
    "    vector_index_with_filter = \"vector_index_with_filter\"\n",
    "\n",
    "    new_vector_search_index_model = SearchIndexModel(\n",
    "        definition={\n",
    "            \"mappings\": {\n",
    "                \"dynamic\": True,\n",
    "                \"fields\": {\n",
    "                    \"text_embeddings\": {\n",
    "                        \"dimensions\": 1536,\n",
    "                        \"similarity\": \"cosine\",\n",
    "                        \"type\": \"knnVector\",\n",
    "                    },\n",
    "                     \"accommodates\": {\n",
    "                        \"type\": \"number\"\n",
    "                    },\n",
    "                    \"bedrooms\": {\n",
    "                        \"type\": \"number\"\n",
    "                    },\n",
    "                },\n",
    "            }\n",
    "        },\n",
    "        name=vector_index_with_filter,\n",
    "    )\n",
    "    \n",
    "    # Create the new index\n",
    "    try:\n",
    "        result = collection.create_search_index(model=new_vector_search_index_model)\n",
    "        print(\"Creating index...\")\n",
    "        time.sleep(20)  # Sleep for 20 seconds, adding sleep to ensure vector index has compeleted inital sync before utilization\n",
    "        print(\"New index created successfully:\", result)\n",
    "    except Exception as e:\n",
    "        print(f\"Error creating new vector search index: {str(e)}\")\n",
    "\n",
    "\n",
    "def vector_search_with_filter(user_query, db, collection, additional_stages=[], vector_index=\"vector_index_text\"):\n",
    "    \"\"\"\n",
    "    Perform a vector search in the MongoDB collection based on the user query.\n",
    "\n",
    "    Args:\n",
    "    user_query (str): The user's query string.\n",
    "    db (MongoClient.database): The database object.\n",
    "    collection (MongoCollection): The MongoDB collection to search.\n",
    "    additional_stages (list): Additional aggregation stages to include in the pipeline.\n",
    "\n",
    "    Returns:\n",
    "    list: A list of matching documents.\n",
    "    \"\"\"\n",
    "\n",
    "    # Generate embedding for the user query\n",
    "    query_embedding = get_embedding(user_query)\n",
    "\n",
    "    if query_embedding is None:\n",
    "        return \"Invalid query or embedding generation failed.\"\n",
    "\n",
    "    # Define the vector search stage\n",
    "    vector_search_stage = {\n",
    "        \"$vectorSearch\": {\n",
    "            \"index\": vector_index,  # specifies the index to use for the search\n",
    "            \"queryVector\": query_embedding,  # the vector representing the query\n",
    "            \"path\": \"text_embeddings\",  # field in the documents containing the vectors to search against\n",
    "            \"numCandidates\": 150,  # number of candidate matches to consider\n",
    "            \"limit\": 20,  # return top 20 matches\n",
    "            \"filter\": {\n",
    "                \"$and\": [\n",
    "                    {\"accommodates\": {\"$gte\": 2}}, \n",
    "                    {\"bedrooms\": {\"$lte\": 7}}\n",
    "                ]\n",
    "            },\n",
    "        }\n",
    "    }\n",
    "\n",
    "\n",
    "    # Define the aggregate pipeline with the vector search stage and additional stages\n",
    "    pipeline = [vector_search_stage] + additional_stages\n",
    "\n",
    "    # Execute the search\n",
    "    results = collection.aggregate(pipeline)\n",
    "\n",
    "    explain_query_execution = db.command( # sends a database command directly to the MongoDB server\n",
    "        'explain', { # return information about how MongoDB executes a query or command without actually running it\n",
    "            'aggregate': collection.name, # specifies the name of the collection on which the aggregation is performed\n",
    "            'pipeline': pipeline, # the aggregation pipeline to analyze\n",
    "            'cursor': {} # indicates that default cursor behavior should be used\n",
    "        }, \n",
    "        verbosity='executionStats') # detailed statistics about the execution of each stage of the aggregation pipeline\n",
    "\n",
    "    vector_search_explain = explain_query_execution['stages'][0]['$vectorSearch']\n",
    "    millis_elapsed = vector_search_explain['explain']['collectStats']['millisElapsed']\n",
    "\n",
    "    print(f\"Total time for the execution to complete on the database server: {millis_elapsed} milliseconds\")\n",
    "\n",
    "    return list(results)\n",
    "\n",
    "\n",
    "\n",
    "\n",
    "def connect_to_database():\n",
    "    \"\"\"Establish connection to the MongoDB.\"\"\"\n",
    "\n",
    "    MONGO_URI = os.environ.get(\"MONGO_URI\")\n",
    "\n",
    "    if not MONGO_URI:\n",
    "        print(\"MONGO_URI not set in environment variables\")\n",
    "\n",
    "    # gateway to interacting with a MongoDB database cluster\n",
    "    mongo_client = MongoClient(MONGO_URI, appname=\"devrel.deeplearningai.python\")\n",
    "    print(\"Connection to MongoDB successful\")\n",
    "\n",
    "    # Pymongo client of database and collection\n",
    "    db = mongo_client.get_database(DB_NAME)\n",
    "    collection = db.get_collection(COLLECTION_NAME)\n",
    "\n",
    "    return db, collection"
   ]
  },
  {
   "cell_type": "markdown",
   "id": "105124c9-6f01-492f-a104-fd81926700ee",
   "metadata": {},
   "source": [
    "<p style=\"background-color:#fff6ff; padding:15px; border-width:3px; border-color:#efe6ef; border-style:solid; border-radius:6px\"> 💻 &nbsp; <b>Access <code>requirements.txt</code> and <code>utils</code> files:</b> To access <code>requirements.txt</code> for this notebook, 1) click on the <em>\"File\"</em> option on the top menu of the notebook and then 2) click on <em>\"Open\"</em>. For more help, please see the <em>\"Appendix - Tips and Help\"</em> Lesson.</p>"
   ]
  },
  {
   "cell_type": "markdown",
   "id": "ad100d3a-2878-49d8-9149-7cf17b762ae3",
   "metadata": {},
   "source": [
    "## Data Loading"
   ]
  },
  {
   "cell_type": "code",
   "execution_count": 20,
   "id": "6ba54c1f-108c-49f2-bcdb-234c06df3eaa",
   "metadata": {
    "height": 149
   },
   "outputs": [],
   "source": [
    "from datasets import load_dataset\n",
    "import pandas as pd\n",
    "\n",
    "dataset = load_dataset(\"MongoDB/airbnb_embeddings\", streaming=True, split=\"train\")\n",
    "dataset = dataset.take(100)\n",
    "# Convert the dataset to a pandas dataframe\n",
    "dataset_df = pd.DataFrame(dataset)\n",
    "# dataset_df.head(5)"
   ]
  },
  {
   "cell_type": "code",
   "execution_count": 21,
   "id": "cef8a3ce-e87d-49f3-a935-530cb54d6f2e",
   "metadata": {
    "height": 30
   },
   "outputs": [
    {
     "name": "stdout",
     "output_type": "stream",
     "text": [
      "Columns: Index(['_id', 'listing_url', 'name', 'summary', 'space', 'description',\n",
      "       'neighborhood_overview', 'notes', 'transit', 'access', 'interaction',\n",
      "       'house_rules', 'property_type', 'room_type', 'bed_type',\n",
      "       'minimum_nights', 'maximum_nights', 'cancellation_policy',\n",
      "       'last_scraped', 'calendar_last_scraped', 'first_review', 'last_review',\n",
      "       'accommodates', 'bedrooms', 'beds', 'number_of_reviews', 'bathrooms',\n",
      "       'amenities', 'price', 'security_deposit', 'cleaning_fee',\n",
      "       'extra_people', 'guests_included', 'images', 'host', 'address',\n",
      "       'availability', 'review_scores', 'reviews', 'weekly_price',\n",
      "       'monthly_price', 'text_embeddings', 'image_embeddings'],\n",
      "      dtype='object')\n"
     ]
    }
   ],
   "source": [
    "print(\"Columns:\", dataset_df.columns)"
   ]
  },
  {
   "cell_type": "markdown",
   "id": "75cabb79-54bd-443f-8edc-ba80ec529be5",
   "metadata": {},
   "source": [
    "## Document Modelling"
   ]
  },
  {
   "cell_type": "code",
   "execution_count": 22,
   "id": "03e640da-4906-4ade-8f0e-9559f7239575",
   "metadata": {
    "height": 30
   },
   "outputs": [],
   "source": [
    "listings = process_records(dataset_df)"
   ]
  },
  {
   "cell_type": "markdown",
   "id": "8d8dc7e1-d108-4a40-8294-4325b69fd5a4",
   "metadata": {},
   "source": [
    "## Database Creation and Connection"
   ]
  },
  {
   "cell_type": "code",
   "execution_count": 23,
   "id": "d124791c-f015-440b-9d64-6cb7d6c7a6c9",
   "metadata": {
    "height": 30
   },
   "outputs": [
    {
     "name": "stdout",
     "output_type": "stream",
     "text": [
      "Connection to MongoDB successful\n"
     ]
    }
   ],
   "source": [
    "db, collection = connect_to_database()"
   ]
  },
  {
   "cell_type": "code",
   "execution_count": 24,
   "id": "b5865a1f-9db7-4eb4-b768-e3353d637121",
   "metadata": {
    "height": 47
   },
   "outputs": [
    {
     "data": {
      "text/plain": [
       "DeleteResult({'n': 100, 'electionId': ObjectId('7fffffff0000000000000002'), 'opTime': {'ts': Timestamp(1722840369, 91), 't': 2}, 'ok': 1.0, '$clusterTime': {'clusterTime': Timestamp(1722840369, 100), 'signature': {'hash': b'\\x00\\x00\\x00\\x00\\x00\\x00\\x00\\x00\\x00\\x00\\x00\\x00\\x00\\x00\\x00\\x00\\x00\\x00\\x00\\x00', 'keyId': 0}}, 'operationTime': Timestamp(1722840369, 91)}, acknowledged=True)"
      ]
     },
     "execution_count": 24,
     "metadata": {},
     "output_type": "execute_result"
    }
   ],
   "source": [
    "# Delete any existing records in the collection\n",
    "collection.delete_many({})"
   ]
  },
  {
   "cell_type": "markdown",
   "id": "d616ad62-e4b2-4086-b596-14320baa5db6",
   "metadata": {},
   "source": [
    "## Data Ingestion"
   ]
  },
  {
   "cell_type": "code",
   "execution_count": 25,
   "id": "b602c4d7-fd03-4fa4-be63-0b22b29724b7",
   "metadata": {
    "height": 47
   },
   "outputs": [
    {
     "name": "stdout",
     "output_type": "stream",
     "text": [
      "Data ingestion into MongoDB completed\n"
     ]
    }
   ],
   "source": [
    "collection.insert_many(listings)\n",
    "print(\"Data ingestion into MongoDB completed\")"
   ]
  },
  {
   "cell_type": "markdown",
   "id": "9567637d-9c54-4594-81b7-592f634eb7fa",
   "metadata": {},
   "source": [
    "## Vector Search Index defintion"
   ]
  },
  {
   "cell_type": "code",
   "execution_count": 26,
   "id": "061b04e8-b279-41dc-80fc-d94fcd544af8",
   "metadata": {
    "height": 47
   },
   "outputs": [
    {
     "name": "stdout",
     "output_type": "stream",
     "text": [
      "Creating index...\n",
      "New index created successfully: vector_index_with_filter\n"
     ]
    }
   ],
   "source": [
    "# Create vector search index\n",
    "setup_vector_search_index_with_filter(collection=collection)"
   ]
  },
  {
   "cell_type": "markdown",
   "id": "67cb4620-1f39-432e-a27b-dfc120cab7b8",
   "metadata": {},
   "source": [
    "<p style=\"background-color:#fff6e4; padding:15px; border-width:3px; border-color:#f5ecda; border-style:solid; border-radius:6px\"> ⏳ <b>Note:</b> If the output of the previous cell is <code>Error creating vector search index: Duplicate Index</code> you may proceed to the next cell if you intend to still use a previously created index.</p>"
   ]
  },
  {
   "cell_type": "markdown",
   "id": "678beaa8-f9bb-4f60-bf21-1e56916c6da9",
   "metadata": {},
   "source": [
    "## Handling User Query"
   ]
  },
  {
   "cell_type": "code",
   "execution_count": 27,
   "id": "ea395473-e021-487e-a794-280655380fb2",
   "metadata": {
    "height": 234
   },
   "outputs": [],
   "source": [
    "from pydantic import BaseModel\n",
    "from typing import Optional\n",
    "\n",
    "class SearchResultItem(BaseModel):\n",
    "    name: str\n",
    "    accommodates: Optional[int] = None\n",
    "    address: custom_utils.Address\n",
    "        \n",
    "        #new fields for boosting purpose\n",
    "    averageReviewScore: Optional[float] = None\n",
    "    number_of_reviews: Optional[float] = None\n",
    "    combinedScore: Optional[float] = None\n"
   ]
  },
  {
   "cell_type": "code",
   "execution_count": 28,
   "id": "1cdf3da4-0686-469b-af28-28c7e2540f2f",
   "metadata": {
    "height": 627
   },
   "outputs": [],
   "source": [
    "from IPython.display import display, HTML\n",
    "\n",
    "def handle_user_query(query, db, collection, stages=[], vector_index=\"vector_index_text\"):\n",
    "    get_knowledge = vector_search_with_filter(query, db, collection, stages, vector_index)\n",
    "\n",
    "    if not get_knowledge:\n",
    "        return \"No results found.\", \"No source information available.\"\n",
    "    \n",
    "    print(\"List of all fields of the first document, before model conformance\")\n",
    "    print(get_knowledge[0].keys())\n",
    "\n",
    "    search_results_models = [\n",
    "        SearchResultItem(**result)\n",
    "        for result in get_knowledge\n",
    "    ]\n",
    "\n",
    "    search_results_df = pd.DataFrame([item.dict() for item in search_results_models])\n",
    "\n",
    "    completion = custom_utils.openai.chat.completions.create(\n",
    "        model=\"gpt-3.5-turbo\",\n",
    "        messages=[\n",
    "            {\n",
    "                \"role\": \"system\", \n",
    "                \"content\": \"You are a airbnb listing recommendation system.\"},\n",
    "            {\n",
    "                \"role\": \"user\", \n",
    "                \"content\": f\"Answer this user query: {query} with the following context:\\n{search_results_df}\"\n",
    "            }\n",
    "        ]\n",
    "    )\n",
    "    system_response = completion.choices[0].message.content\n",
    "    print(f\"- User Question:\\n{query}\\n\")\n",
    "    print(f\"- System Response:\\n{system_response}\\n\")\n",
    "    display(HTML(search_results_df.to_html()))\n",
    "    return system_response"
   ]
  },
  {
   "cell_type": "markdown",
   "id": "8d50e3e1-92ae-4957-86e8-77f6936b7f73",
   "metadata": {},
   "source": [
    "## Boosting Search Results After Vector Search"
   ]
  },
  {
   "cell_type": "code",
   "execution_count": 29,
   "id": "1d86e9f0-5a7e-43fb-b855-ecf3ee2a46a5",
   "metadata": {
    "height": 370
   },
   "outputs": [],
   "source": [
    "review_average_stage = {\n",
    "    \"$addFields\": {\n",
    "        \"averageReviewScore\": {\n",
    "            \"$divide\": [\n",
    "                {\n",
    "                    \"$add\": [\n",
    "                        \"$review_scores.review_scores_accuracy\",\n",
    "                        \"$review_scores.review_scores_cleanliness\",\n",
    "                        \"$review_scores.review_scores_checkin\",\n",
    "                        \"$review_scores.review_scores_communication\",\n",
    "                        \"$review_scores.review_scores_location\",\n",
    "                        \"$review_scores.review_scores_value\",\n",
    "                    ]\n",
    "                },\n",
    "                6  # Divide by the number of review score types to get the average\n",
    "            ]\n",
    "        },\n",
    "        # Calculate a score boost factor based on the number of reviews\n",
    "        \"reviewCountBoost\": \"$number_of_reviews\"\n",
    "    }\n",
    "}"
   ]
  },
  {
   "cell_type": "code",
   "execution_count": 30,
   "id": "8ecb2cff-50de-4656-bc62-1586e9a06b9a",
   "metadata": {
    "height": 200
   },
   "outputs": [],
   "source": [
    "weighting_stage = {\n",
    "    \"$addFields\": {\n",
    "        \"combinedScore\": {\n",
    "            \"$add\": [\n",
    "                {\"$multiply\": [\"$averageReviewScore\", 0.9]},  # Weighted average review score\n",
    "                {\"$multiply\": [\"$reviewCountBoost\", 0.1]}   # Weighted review count boost\n",
    "            ]\n",
    "        }\n",
    "    }\n",
    "}\n"
   ]
  },
  {
   "cell_type": "code",
   "execution_count": 31,
   "id": "b6d230f8-324c-4466-8efc-e02e2ea3ff30",
   "metadata": {
    "height": 81
   },
   "outputs": [],
   "source": [
    "# Apply the combinedScore for sorting\n",
    "sorting_stage_sort = {\n",
    "    \"$sort\": {\"combinedScore\": -1}  # Descending order to boost higher combined scores\n",
    "}"
   ]
  },
  {
   "cell_type": "code",
   "execution_count": 32,
   "id": "0318142e-32a2-4bb8-90ec-c1d059d93b95",
   "metadata": {
    "height": 30
   },
   "outputs": [],
   "source": [
    "additional_stages = [review_average_stage, weighting_stage, sorting_stage_sort]"
   ]
  },
  {
   "cell_type": "markdown",
   "id": "4f141afc-ba58-49dc-80fc-1aa6e2e0625a",
   "metadata": {},
   "source": [
    "## Results"
   ]
  },
  {
   "cell_type": "code",
   "execution_count": 33,
   "id": "1b6a6df8-c9a6-4001-b575-5d38c03fef1d",
   "metadata": {
    "height": 217
   },
   "outputs": [
    {
     "name": "stdout",
     "output_type": "stream",
     "text": [
      "Total time for the execution to complete on the database server: 0.084179 milliseconds\n",
      "List of all fields of the first document, before model conformance\n",
      "dict_keys(['_id', 'listing_url', 'name', 'summary', 'space', 'description', 'neighborhood_overview', 'notes', 'transit', 'access', 'interaction', 'house_rules', 'property_type', 'room_type', 'bed_type', 'minimum_nights', 'maximum_nights', 'cancellation_policy', 'last_scraped', 'calendar_last_scraped', 'first_review', 'last_review', 'accommodates', 'bedrooms', 'beds', 'number_of_reviews', 'bathrooms', 'amenities', 'price', 'security_deposit', 'cleaning_fee', 'extra_people', 'guests_included', 'images', 'host', 'address', 'availability', 'review_scores', 'reviews', 'text_embeddings', 'averageReviewScore', 'reviewCountBoost', 'combinedScore'])\n",
      "- User Question:\n",
      "\n",
      "I want to stay in a place that's warm and friendly, \n",
      "and not too far from resturants, can you recommend a place? \n",
      "Include a reason as to why you've chosen your selection\"\n",
      "\n",
      "\n",
      "- System Response:\n",
      "Based on your preferences for a warm and friendly place not too far from restaurants, I recommend \"The Garden Studio\" in Marrickville, NSW, Australia. This listing has an average review score of 9.83 and received positive feedback from 146 previous guests. Marrickville is known for its vibrant community atmosphere and diverse dining options, making it a great choice for someone looking for warmth and friendliness, as well as easy access to restaurants. Additionally, the studio offers a cozy and inviting atmosphere, perfect for a comfortable stay.\n",
      "\n"
     ]
    },
    {
     "data": {
      "text/html": [
       "<table border=\"1\" class=\"dataframe\">\n",
       "  <thead>\n",
       "    <tr style=\"text-align: right;\">\n",
       "      <th></th>\n",
       "      <th>name</th>\n",
       "      <th>accommodates</th>\n",
       "      <th>address</th>\n",
       "      <th>averageReviewScore</th>\n",
       "      <th>number_of_reviews</th>\n",
       "      <th>combinedScore</th>\n",
       "    </tr>\n",
       "  </thead>\n",
       "  <tbody>\n",
       "    <tr>\n",
       "      <th>0</th>\n",
       "      <td>A bedroom far away from home</td>\n",
       "      <td>2</td>\n",
       "      <td>{'street': 'Queens, NY, United States', 'government_area': 'Briarwood', 'market': 'New York', 'country': 'United States', 'country_code': 'US', 'location': {'type': 'Point', 'coordinates': [-73.82257, 40.71485], 'is_location_exact': True}}</td>\n",
       "      <td>9.833333</td>\n",
       "      <td>239.0</td>\n",
       "      <td>32.75</td>\n",
       "    </tr>\n",
       "    <tr>\n",
       "      <th>1</th>\n",
       "      <td>Homely Room in 5-Star New Condo@MTR</td>\n",
       "      <td>2</td>\n",
       "      <td>{'street': 'Mongkok, Kowloon, Hong Kong', 'government_area': 'Yau Tsim Mong', 'market': 'Hong Kong', 'country': 'Hong Kong', 'country_code': 'HK', 'location': {'type': 'Point', 'coordinates': [114.17094, 22.32074], 'is_location_exact': False}}</td>\n",
       "      <td>9.500000</td>\n",
       "      <td>179.0</td>\n",
       "      <td>26.45</td>\n",
       "    </tr>\n",
       "    <tr>\n",
       "      <th>2</th>\n",
       "      <td>Cozy double bed room 東涌鄉村雅緻雙人房</td>\n",
       "      <td>2</td>\n",
       "      <td>{'street': 'Hong Kong, New Territories, Hong Kong', 'government_area': 'Islands', 'market': 'Hong Kong', 'country': 'Hong Kong', 'country_code': 'HK', 'location': {'type': 'Point', 'coordinates': [113.92823, 22.27671], 'is_location_exact': False}}</td>\n",
       "      <td>9.666667</td>\n",
       "      <td>162.0</td>\n",
       "      <td>24.90</td>\n",
       "    </tr>\n",
       "    <tr>\n",
       "      <th>3</th>\n",
       "      <td>The Garden Studio</td>\n",
       "      <td>2</td>\n",
       "      <td>{'street': 'Marrickville, NSW, Australia', 'government_area': 'Marrickville', 'market': 'Sydney', 'country': 'Australia', 'country_code': 'AU', 'location': {'type': 'Point', 'coordinates': [151.15036, -33.90318], 'is_location_exact': False}}</td>\n",
       "      <td>9.833333</td>\n",
       "      <td>146.0</td>\n",
       "      <td>23.45</td>\n",
       "    </tr>\n",
       "    <tr>\n",
       "      <th>4</th>\n",
       "      <td>Best location 1BR Apt in HK - Shops &amp; Sights</td>\n",
       "      <td>4</td>\n",
       "      <td>{'street': 'Hong Kong, Kowloon, Hong Kong', 'government_area': 'Yau Tsim Mong', 'market': 'Hong Kong', 'country': 'Hong Kong', 'country_code': 'HK', 'location': {'type': 'Point', 'coordinates': [114.17088, 22.29663], 'is_location_exact': True}}</td>\n",
       "      <td>9.833333</td>\n",
       "      <td>145.0</td>\n",
       "      <td>23.35</td>\n",
       "    </tr>\n",
       "    <tr>\n",
       "      <th>5</th>\n",
       "      <td>Bondi Beach Dreaming 3-Bed House</td>\n",
       "      <td>8</td>\n",
       "      <td>{'street': 'Bondi Beach, NSW, Australia', 'government_area': 'Waverley', 'market': 'Sydney', 'country': 'Australia', 'country_code': 'AU', 'location': {'type': 'Point', 'coordinates': [151.27448, -33.8872], 'is_location_exact': False}}</td>\n",
       "      <td>9.833333</td>\n",
       "      <td>139.0</td>\n",
       "      <td>22.75</td>\n",
       "    </tr>\n",
       "    <tr>\n",
       "      <th>6</th>\n",
       "      <td>Sydney Hyde Park City Apartment (checkin from 6am)</td>\n",
       "      <td>2</td>\n",
       "      <td>{'street': 'Darlinghurst, NSW, Australia', 'government_area': 'Sydney', 'market': 'Sydney', 'country': 'Australia', 'country_code': 'AU', 'location': {'type': 'Point', 'coordinates': [151.21346, -33.87603], 'is_location_exact': False}}</td>\n",
       "      <td>10.000000</td>\n",
       "      <td>109.0</td>\n",
       "      <td>19.90</td>\n",
       "    </tr>\n",
       "    <tr>\n",
       "      <th>7</th>\n",
       "      <td>Studio convenient to CBD, beaches, street parking.</td>\n",
       "      <td>5</td>\n",
       "      <td>{'street': 'Balgowlah, NSW, Australia', 'government_area': 'Manly', 'market': 'Sydney', 'country': 'Australia', 'country_code': 'AU', 'location': {'type': 'Point', 'coordinates': [151.26108, -33.7975], 'is_location_exact': True}}</td>\n",
       "      <td>9.833333</td>\n",
       "      <td>104.0</td>\n",
       "      <td>19.25</td>\n",
       "    </tr>\n",
       "    <tr>\n",
       "      <th>8</th>\n",
       "      <td>Banyan Bungalow</td>\n",
       "      <td>2</td>\n",
       "      <td>{'street': 'Waialua, HI, United States', 'government_area': 'North Shore Oahu', 'market': 'Oahu', 'country': 'United States', 'country_code': 'US', 'location': {'type': 'Point', 'coordinates': [-158.1602, 21.57561], 'is_location_exact': False}}</td>\n",
       "      <td>9.666667</td>\n",
       "      <td>99.0</td>\n",
       "      <td>18.60</td>\n",
       "    </tr>\n",
       "    <tr>\n",
       "      <th>9</th>\n",
       "      <td>Cheerful new renovated central apt</td>\n",
       "      <td>8</td>\n",
       "      <td>{'street': 'Beyoğlu, İstanbul, Turkey', 'government_area': 'Beyoglu', 'market': 'Istanbul', 'country': 'Turkey', 'country_code': 'TR', 'location': {'type': 'Point', 'coordinates': [28.97477, 41.03735], 'is_location_exact': False}}</td>\n",
       "      <td>9.333333</td>\n",
       "      <td>77.0</td>\n",
       "      <td>16.10</td>\n",
       "    </tr>\n",
       "    <tr>\n",
       "      <th>10</th>\n",
       "      <td>Surry Hills Studio - Your Perfect Base in Sydney</td>\n",
       "      <td>2</td>\n",
       "      <td>{'street': 'Surry Hills, NSW, Australia', 'government_area': 'Sydney', 'market': 'Sydney', 'country': 'Australia', 'country_code': 'AU', 'location': {'type': 'Point', 'coordinates': [151.21554, -33.88029], 'is_location_exact': True}}</td>\n",
       "      <td>9.666667</td>\n",
       "      <td>64.0</td>\n",
       "      <td>15.10</td>\n",
       "    </tr>\n",
       "    <tr>\n",
       "      <th>11</th>\n",
       "      <td>Nice Cosy Room In Taksim</td>\n",
       "      <td>2</td>\n",
       "      <td>{'street': 'Taksim, Cihangir, Istanbul , Beyoğlu, Turkey', 'government_area': 'Beyoglu', 'market': 'Istanbul', 'country': 'Turkey', 'country_code': 'TR', 'location': {'type': 'Point', 'coordinates': [28.98648, 41.03376], 'is_location_exact': True}}</td>\n",
       "      <td>9.833333</td>\n",
       "      <td>31.0</td>\n",
       "      <td>11.95</td>\n",
       "    </tr>\n",
       "    <tr>\n",
       "      <th>12</th>\n",
       "      <td>Cozy house at Beyoğlu</td>\n",
       "      <td>2</td>\n",
       "      <td>{'street': 'Beyoğlu, İstanbul, Turkey', 'government_area': 'Beyoglu', 'market': 'Istanbul', 'country': 'Turkey', 'country_code': 'TR', 'location': {'type': 'Point', 'coordinates': [28.95825, 41.03777], 'is_location_exact': False}}</td>\n",
       "      <td>9.666667</td>\n",
       "      <td>27.0</td>\n",
       "      <td>11.40</td>\n",
       "    </tr>\n",
       "    <tr>\n",
       "      <th>13</th>\n",
       "      <td>March 2019 availability! Oceanview on Sugar Beach!</td>\n",
       "      <td>4</td>\n",
       "      <td>{'street': 'Kihei, HI, United States', 'government_area': 'Kihei-Makena', 'market': 'Maui', 'country': 'United States', 'country_code': 'US', 'location': {'type': 'Point', 'coordinates': [-156.46881, 20.78621], 'is_location_exact': True}}</td>\n",
       "      <td>9.666667</td>\n",
       "      <td>19.0</td>\n",
       "      <td>10.60</td>\n",
       "    </tr>\n",
       "    <tr>\n",
       "      <th>14</th>\n",
       "      <td>Easy 1 Bedroom in Chelsea</td>\n",
       "      <td>2</td>\n",
       "      <td>{'street': 'New York, NY, United States', 'government_area': 'Chelsea', 'market': 'New York', 'country': 'United States', 'country_code': 'US', 'location': {'type': 'Point', 'coordinates': [-74.00074, 40.74577], 'is_location_exact': True}}</td>\n",
       "      <td>10.000000</td>\n",
       "      <td>1.0</td>\n",
       "      <td>9.10</td>\n",
       "    </tr>\n",
       "    <tr>\n",
       "      <th>15</th>\n",
       "      <td>Cozy bedroom Sagrada Familia</td>\n",
       "      <td>2</td>\n",
       "      <td>{'street': 'Barcelona, Catalunya, Spain', 'government_area': 'el Fort Pienc', 'market': 'Barcelona', 'country': 'Spain', 'country_code': 'ES', 'location': {'type': 'Point', 'coordinates': [2.17963, 41.40087], 'is_location_exact': True}}</td>\n",
       "      <td>10.000000</td>\n",
       "      <td>1.0</td>\n",
       "      <td>9.10</td>\n",
       "    </tr>\n",
       "    <tr>\n",
       "      <th>16</th>\n",
       "      <td>Charming Flat in Downtown Moda</td>\n",
       "      <td>6</td>\n",
       "      <td>{'street': 'Kadıköy, İstanbul, Turkey', 'government_area': 'Kadikoy', 'market': 'Istanbul', 'country': 'Turkey', 'country_code': 'TR', 'location': {'type': 'Point', 'coordinates': [29.03133, 40.98585], 'is_location_exact': True}}</td>\n",
       "      <td>10.000000</td>\n",
       "      <td>1.0</td>\n",
       "      <td>9.10</td>\n",
       "    </tr>\n",
       "    <tr>\n",
       "      <th>17</th>\n",
       "      <td>Downtown Oporto Inn (room cleaning)</td>\n",
       "      <td>2</td>\n",
       "      <td>{'street': 'Porto, Porto, Portugal', 'government_area': 'Cedofeita, Ildefonso, Sé, Miragaia, Nicolau, Vitória', 'market': 'Porto', 'country': 'Portugal', 'country_code': 'PT', 'location': {'type': 'Point', 'coordinates': [-8.60867, 41.1543], 'is_location_exact': False}}</td>\n",
       "      <td>NaN</td>\n",
       "      <td>0.0</td>\n",
       "      <td>NaN</td>\n",
       "    </tr>\n",
       "    <tr>\n",
       "      <th>18</th>\n",
       "      <td>Modern Spacious 1 Bedroom Loft</td>\n",
       "      <td>4</td>\n",
       "      <td>{'street': 'Montréal, Québec, Canada', 'government_area': 'Le Plateau-Mont-Royal', 'market': 'Montreal', 'country': 'Canada', 'country_code': 'CA', 'location': {'type': 'Point', 'coordinates': [-73.59111, 45.51889], 'is_location_exact': True}}</td>\n",
       "      <td>NaN</td>\n",
       "      <td>0.0</td>\n",
       "      <td>NaN</td>\n",
       "    </tr>\n",
       "    <tr>\n",
       "      <th>19</th>\n",
       "      <td>THE Place to See Sydney's FIREWORKS</td>\n",
       "      <td>2</td>\n",
       "      <td>{'street': 'Rozelle, NSW, Australia', 'government_area': 'Leichhardt', 'market': 'Sydney', 'country': 'Australia', 'country_code': 'AU', 'location': {'type': 'Point', 'coordinates': [151.17956, -33.86296], 'is_location_exact': True}}</td>\n",
       "      <td>NaN</td>\n",
       "      <td>0.0</td>\n",
       "      <td>NaN</td>\n",
       "    </tr>\n",
       "  </tbody>\n",
       "</table>"
      ],
      "text/plain": [
       "<IPython.core.display.HTML object>"
      ]
     },
     "metadata": {},
     "output_type": "display_data"
    },
    {
     "data": {
      "text/plain": [
       "'Based on your preferences for a warm and friendly place not too far from restaurants, I recommend \"The Garden Studio\" in Marrickville, NSW, Australia. This listing has an average review score of 9.83 and received positive feedback from 146 previous guests. Marrickville is known for its vibrant community atmosphere and diverse dining options, making it a great choice for someone looking for warmth and friendliness, as well as easy access to restaurants. Additionally, the studio offers a cozy and inviting atmosphere, perfect for a comfortable stay.'"
      ]
     },
     "execution_count": 33,
     "metadata": {},
     "output_type": "execute_result"
    }
   ],
   "source": [
    "query = \"\"\"\n",
    "I want to stay in a place that's warm and friendly, \n",
    "and not too far from resturants, can you recommend a place? \n",
    "Include a reason as to why you've chosen your selection\"\n",
    "\"\"\"\n",
    "handle_user_query(\n",
    "    query, \n",
    "    db, \n",
    "    collection, \n",
    "    additional_stages, \n",
    "    vector_index=\"vector_index_with_filter\"\n",
    ")"
   ]
  },
  {
   "cell_type": "code",
   "execution_count": null,
   "id": "5b56cec1-d939-468e-b65c-ade0308acce8",
   "metadata": {
    "height": 30
   },
   "outputs": [],
   "source": []
  },
  {
   "cell_type": "code",
   "execution_count": null,
   "id": "70aa1f19-3a43-4800-8984-ea343dc5dfda",
   "metadata": {
    "height": 30
   },
   "outputs": [],
   "source": []
  },
  {
   "cell_type": "code",
   "execution_count": null,
   "id": "1aadfd10-c9ba-4f93-9f0d-b99771219e28",
   "metadata": {
    "height": 30
   },
   "outputs": [],
   "source": []
  },
  {
   "cell_type": "code",
   "execution_count": null,
   "id": "599d2704-4451-4db3-8e56-8eedb0de82f6",
   "metadata": {
    "height": 30
   },
   "outputs": [],
   "source": []
  },
  {
   "cell_type": "code",
   "execution_count": null,
   "id": "29a134ae-da61-4453-9f5f-ec6eb3992326",
   "metadata": {
    "height": 30
   },
   "outputs": [],
   "source": []
  }
 ],
 "metadata": {
  "kernelspec": {
   "display_name": "Python 3 (ipykernel)",
   "language": "python",
   "name": "python3"
  },
  "language_info": {
   "codemirror_mode": {
    "name": "ipython",
    "version": 3
   },
   "file_extension": ".py",
   "mimetype": "text/x-python",
   "name": "python",
   "nbconvert_exporter": "python",
   "pygments_lexer": "ipython3",
   "version": "3.11.9"
  }
 },
 "nbformat": 4,
 "nbformat_minor": 5
}
